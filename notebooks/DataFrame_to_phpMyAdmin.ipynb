{
 "cells": [
  {
   "cell_type": "code",
   "execution_count": 1,
   "id": "4000d9c1-b04d-4d3e-a0c0-79127e6c2ca0",
   "metadata": {},
   "outputs": [],
   "source": [
    "import os\n",
    "import re\n",
    "from pathlib import Path\n",
    "from typing import List\n",
    "from tqdm import tqdm\n",
    "import pandas as pd\n",
    "\n",
    "import sqlalchemy\n",
    "\n",
    "from bigbang.ingress.listserv import ListservMailList\n",
    "from sdo_and_cc.ingress import EmailList"
   ]
  },
  {
   "cell_type": "raw",
   "id": "a406337e-f4f0-4f79-abca-4867ff354b43",
   "metadata": {},
   "source": [
    "folder_project = \"/Users/christovis/Documents/InternetGovernance/proj2_ietf_and_cc/ietf_and_climate_impact\"\n",
    "folder_data = folder_project + \"/data\"\n",
    "folder_emails = \"/Users/christovis/Documents/InternetGovernance/bigbang-archive/IETF\"\n",
    "\n",
    "for mlist_name in tqdm(os.listdir(folder_emails + \"/\"), ascii=True):\n",
    "    file_path = f\"{folder_data}/email_unfiltered/email_{mlist_name}.csv\"\n",
    "\n",
    "    print(mlist_name)\n",
    "    print(file_path)\n",
    "    \n",
    "    # load mailing list\n",
    "    mlist = EmailList.from_csv_file(\n",
    "        file_path=file_path,\n",
    "        name=mlist_name,\n",
    "    )\n",
    "\n",
    "    if mlist.df is None:\n",
    "        print(f\"{mlist_name} has no content.\")\n",
    "        continue\n",
    "\n",
    "    break\n",
    "    \n",
    "engine = sqlalchemy.create_engine(\"sqlite:///bigbang_test.db\")  # relative path to db\n",
    "\n",
    "mlist.df.to_sql(\"ietf_email_oam\", con=engine)"
   ]
  },
  {
   "cell_type": "raw",
   "id": "b0fb73fd-296b-4b67-aa82-32fb110e3863",
   "metadata": {},
   "source": [
    "# folder_search_set = \"/Users/christovis/Documents/InternetGovernance/proj1_3gpp_and_comp/standardization-of-lawful-interception-technologies-in-the-3GPP/data/search_set/\"\n",
    "# mlist_name = \"3GPP_TSG_SA_WG3\"\n",
    "\n",
    "folder_search_set = \"/Users/christovis/Documents/InternetGovernance/bigbang-archive/3GPP/\"\n",
    "mlist_name = \"3GPP_TSG_SA_DRAFTS\"\n",
    "\n",
    "folder_return = \"/Users/christovis/Documents/InternetGovernance/bigbang-graphql/data/\"\n",
    "\n",
    "mlist = ListservMailList.from_mbox(\n",
    "    name=mlist_name,\n",
    "    filepath=folder_search_set + f\"{mlist_name}.mbox\",\n",
    ")\n",
    "df = mlist.to_pandas_dataframe()\n",
    "\n",
    "engine = sqlalchemy.create_engine(f\"sqlite:///{folder_return}bigbang_test.db\")  # relative path to db\n",
    "\n",
    "df.to_sql(f\"{mlist_name}\", con=engine, index=False, if_exists=\"replace\")"
   ]
  },
  {
   "cell_type": "code",
   "execution_count": 2,
   "id": "91e9b75d-0f73-4bf5-a407-9b4cdb317e8e",
   "metadata": {},
   "outputs": [],
   "source": [
    "folder_search_set = \"/Users/christovis/Documents/InternetGovernance/bigbang-archive/3GPP/\"\n",
    "mlist_name = \"3GPP_TSG_SA_DRAFTS\"\n",
    "\n",
    "folder_return = \"/Users/christovis/Documents/InternetGovernance/bigbang-graphql/data/\"\n",
    "\n",
    "mlist = ListservMailList.from_mbox(\n",
    "    name=mlist_name,\n",
    "    filepath=folder_search_set + f\"{mlist_name}.mbox\",\n",
    ")\n",
    "df = mlist.to_pandas_dataframe(include_body=False)\n",
    "df = df.drop(columns=['content-transfer-encoding', 'organization'])\n",
    "df = df.rename(columns={\n",
    "    \"message-id\": \"messageID\",\n",
    "    \"archived-at\": \"archivedAt\",\n",
    "    \"mime-version\": \"mime_version\",\n",
    "    \"subject\": \"subject\",\n",
    "    \"sender\": \"senderAdress\",\n",
    "    \"from\": \"fromAdress\",\n",
    "    \"date\": \"dateTime\",\n",
    "    \"reply-to\": \"replyTo\",\n",
    "    \"in-reply-to\": \"inReplyTo\",\n",
    "    \"comments-to\": \"commentsTo\",\n",
    "    \"content-type\": \"contentType\",\n",
    "    \"mime-version\": \"mimeVersion\",\n",
    "})\n",
    "\n",
    "df.to_csv(\n",
    "    folder_return + \"bigbang_test.csv\",\n",
    "    index=False,\n",
    "    sep=\"|\",\n",
    "    na_rep=\"None\",\n",
    "    encoding=\"utf-8\",\n",
    "    line_terminator=\"\\n\",\n",
    ")"
   ]
  },
  {
   "cell_type": "code",
   "execution_count": 3,
   "id": "79d8da2e-64f8-4cc8-8e6f-41df633b0faf",
   "metadata": {},
   "outputs": [
    {
     "data": {
      "text/plain": [
       "Index(['mimeVersion', 'senderAdress', 'dateTime', 'replyTo', 'messageID',\n",
       "       'subject', 'fromAdress', 'inReplyTo', 'contentType', 'commentsTo',\n",
       "       'archivedAt'],\n",
       "      dtype='object')"
      ]
     },
     "execution_count": 3,
     "metadata": {},
     "output_type": "execute_result"
    }
   ],
   "source": [
    "df.columns"
   ]
  },
  {
   "cell_type": "code",
   "execution_count": 13,
   "id": "ef114046-364f-483d-924d-51f3cc7ac515",
   "metadata": {},
   "outputs": [
    {
     "data": {
      "text/plain": [
       "'<https://list.etsi.org/scripts/wa.exe?A2=3GPP_TSG_SA_DRAFTS;de6c4a3c.1912B&S=>'"
      ]
     },
     "execution_count": 13,
     "metadata": {},
     "output_type": "execute_result"
    }
   ],
   "source": [
    "df.iloc[0]['archivedAt']"
   ]
  },
  {
   "cell_type": "code",
   "execution_count": null,
   "id": "deb24d4d-7d6f-42c2-8f5c-ecf7df7c3061",
   "metadata": {},
   "outputs": [],
   "source": []
  }
 ],
 "metadata": {
  "kernelspec": {
   "display_name": "Python 3 (ipykernel)",
   "language": "python",
   "name": "python3"
  },
  "language_info": {
   "codemirror_mode": {
    "name": "ipython",
    "version": 3
   },
   "file_extension": ".py",
   "mimetype": "text/x-python",
   "name": "python",
   "nbconvert_exporter": "python",
   "pygments_lexer": "ipython3",
   "version": "3.10.5"
  }
 },
 "nbformat": 4,
 "nbformat_minor": 5
}
